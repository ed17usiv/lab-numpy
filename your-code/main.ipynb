{
 "cells": [
  {
   "cell_type": "markdown",
   "metadata": {},
   "source": [
    "# Intrduction to NumPy\n",
    "\n",
    "\n",
    "#### 1. Import NumPy under the name np."
   ]
  },
  {
   "cell_type": "code",
   "execution_count": 1,
   "metadata": {},
   "outputs": [],
   "source": [
    "# your code here\n",
    "\n",
    "import numpy as np"
   ]
  },
  {
   "cell_type": "markdown",
   "metadata": {},
   "source": [
    "#### 2. Print your NumPy version."
   ]
  },
  {
   "cell_type": "code",
   "execution_count": 2,
   "metadata": {},
   "outputs": [
    {
     "name": "stdout",
     "output_type": "stream",
     "text": [
      "1.18.5\n"
     ]
    }
   ],
   "source": [
    "# your code here\n",
    "\n",
    "print(np.__version__)"
   ]
  },
  {
   "cell_type": "markdown",
   "metadata": {},
   "source": [
    "#### 3. Generate a 2x3x5 3-dimensional array with random values. Assign the array to variable *a*.\n",
    "**Challenge**: there are at least three easy ways that use numpy to generate random arrays. How many ways can you find?"
   ]
  },
  {
   "cell_type": "code",
   "execution_count": 3,
   "metadata": {},
   "outputs": [
    {
     "data": {
      "text/plain": [
       "array([[[0.77230015, 0.90696097, 0.51030458, 0.49643935, 0.16118849],\n",
       "        [0.91826592, 0.76095121, 0.82138359, 0.36263858, 0.13551212],\n",
       "        [0.92788003, 0.38701847, 0.89685883, 0.23283445, 0.03899497]],\n",
       "\n",
       "       [[0.97876981, 0.20594499, 0.05136877, 0.08002766, 0.23589512],\n",
       "        [0.62084185, 0.0409571 , 0.16982698, 0.64840603, 0.70427987],\n",
       "        [0.40315472, 0.65386313, 0.36095832, 0.09860614, 0.33825055]]])"
      ]
     },
     "execution_count": 3,
     "metadata": {},
     "output_type": "execute_result"
    }
   ],
   "source": [
    "# Method 1\n",
    "\n",
    "a = np.random.random((2,3,5))\n",
    "\n",
    "a"
   ]
  },
  {
   "cell_type": "code",
   "execution_count": 4,
   "metadata": {},
   "outputs": [
    {
     "data": {
      "text/plain": [
       "array([[[7, 1, 9, 4, 2],\n",
       "        [2, 2, 9, 7, 4],\n",
       "        [3, 5, 7, 9, 4]],\n",
       "\n",
       "       [[0, 3, 3, 8, 8],\n",
       "        [3, 0, 6, 4, 1],\n",
       "        [9, 8, 1, 3, 2]]])"
      ]
     },
     "execution_count": 4,
     "metadata": {},
     "output_type": "execute_result"
    }
   ],
   "source": [
    "# Method 2\n",
    "\n",
    "a = np.random.randint(0, 10, size=(2, 3, 5))\n",
    "\n",
    "a"
   ]
  },
  {
   "cell_type": "code",
   "execution_count": 5,
   "metadata": {},
   "outputs": [
    {
     "data": {
      "text/plain": [
       "array([[[0.89064886, 0.27328381, 0.68993204, 0.68070393, 0.33699471],\n",
       "        [0.70106641, 0.63385885, 0.29469194, 0.43889621, 0.50998563],\n",
       "        [0.76968468, 0.09945205, 0.12765437, 0.4275595 , 0.60992031]],\n",
       "\n",
       "       [[0.23586358, 0.96619137, 0.56272257, 0.58074035, 0.21699042],\n",
       "        [0.34835697, 0.7323585 , 0.86363889, 0.80037467, 0.72939698],\n",
       "        [0.34867391, 0.40821691, 0.92690311, 0.31556682, 0.26339812]]])"
      ]
     },
     "execution_count": 5,
     "metadata": {},
     "output_type": "execute_result"
    }
   ],
   "source": [
    "# Method 3\n",
    "\n",
    "a = np.random.rand(2,3,5)\n",
    "\n",
    "a"
   ]
  },
  {
   "cell_type": "markdown",
   "metadata": {},
   "source": [
    "#### 4. Print *a*.\n"
   ]
  },
  {
   "cell_type": "code",
   "execution_count": 6,
   "metadata": {},
   "outputs": [
    {
     "name": "stdout",
     "output_type": "stream",
     "text": [
      "[[[0.89064886 0.27328381 0.68993204 0.68070393 0.33699471]\n",
      "  [0.70106641 0.63385885 0.29469194 0.43889621 0.50998563]\n",
      "  [0.76968468 0.09945205 0.12765437 0.4275595  0.60992031]]\n",
      "\n",
      " [[0.23586358 0.96619137 0.56272257 0.58074035 0.21699042]\n",
      "  [0.34835697 0.7323585  0.86363889 0.80037467 0.72939698]\n",
      "  [0.34867391 0.40821691 0.92690311 0.31556682 0.26339812]]]\n"
     ]
    }
   ],
   "source": [
    "# your code here\n",
    "\n",
    "print(a)"
   ]
  },
  {
   "cell_type": "markdown",
   "metadata": {},
   "source": [
    "#### 5. Create a 5x2x3 3-dimensional array with all values equaling 1. Assign the array to variable *b*."
   ]
  },
  {
   "cell_type": "code",
   "execution_count": 7,
   "metadata": {},
   "outputs": [
    {
     "data": {
      "text/plain": [
       "array([[[1., 1., 1.],\n",
       "        [1., 1., 1.]],\n",
       "\n",
       "       [[1., 1., 1.],\n",
       "        [1., 1., 1.]],\n",
       "\n",
       "       [[1., 1., 1.],\n",
       "        [1., 1., 1.]],\n",
       "\n",
       "       [[1., 1., 1.],\n",
       "        [1., 1., 1.]],\n",
       "\n",
       "       [[1., 1., 1.],\n",
       "        [1., 1., 1.]]])"
      ]
     },
     "execution_count": 7,
     "metadata": {},
     "output_type": "execute_result"
    }
   ],
   "source": [
    "# your code here\n",
    "\n",
    "b = np.ones((5,2,3))\n",
    "\n",
    "b"
   ]
  },
  {
   "cell_type": "markdown",
   "metadata": {},
   "source": [
    "#### 6. Print *b*.\n"
   ]
  },
  {
   "cell_type": "code",
   "execution_count": 8,
   "metadata": {},
   "outputs": [
    {
     "name": "stdout",
     "output_type": "stream",
     "text": [
      "[[[1. 1. 1.]\n",
      "  [1. 1. 1.]]\n",
      "\n",
      " [[1. 1. 1.]\n",
      "  [1. 1. 1.]]\n",
      "\n",
      " [[1. 1. 1.]\n",
      "  [1. 1. 1.]]\n",
      "\n",
      " [[1. 1. 1.]\n",
      "  [1. 1. 1.]]\n",
      "\n",
      " [[1. 1. 1.]\n",
      "  [1. 1. 1.]]]\n"
     ]
    },
    {
     "data": {
      "text/plain": [
       "(5, 2, 3)"
      ]
     },
     "execution_count": 8,
     "metadata": {},
     "output_type": "execute_result"
    }
   ],
   "source": [
    "# your code here\n",
    "\n",
    "print(b)\n",
    "\n",
    "b.shape"
   ]
  },
  {
   "cell_type": "markdown",
   "metadata": {},
   "source": [
    "#### 7. Do *a* and *b* have the same size? How do you prove that in Python code?"
   ]
  },
  {
   "cell_type": "code",
   "execution_count": 9,
   "metadata": {},
   "outputs": [
    {
     "name": "stdout",
     "output_type": "stream",
     "text": [
      "30\n",
      "30\n"
     ]
    }
   ],
   "source": [
    "# your code here\n",
    "\n",
    "print(a.size)\n",
    "print(b.size)"
   ]
  },
  {
   "cell_type": "markdown",
   "metadata": {},
   "source": [
    "#### 8. Are you able to add *a* and *b*? Why or why not?\n"
   ]
  },
  {
   "cell_type": "code",
   "execution_count": 10,
   "metadata": {},
   "outputs": [],
   "source": [
    "# your answer here\n",
    "\n",
    "# np.add(a,b)\n",
    "\n",
    "# they don't have same dimensions and can not be added"
   ]
  },
  {
   "cell_type": "markdown",
   "metadata": {},
   "source": [
    "#### 9. Transpose *b* so that it has the same structure of *a* (i.e. become a 2x3x5 array). Assign the transposed array to variable *c*."
   ]
  },
  {
   "cell_type": "code",
   "execution_count": 11,
   "metadata": {},
   "outputs": [
    {
     "name": "stdout",
     "output_type": "stream",
     "text": [
      "[[[1. 1. 1. 1. 1.]\n",
      "  [1. 1. 1. 1. 1.]\n",
      "  [1. 1. 1. 1. 1.]]\n",
      "\n",
      " [[1. 1. 1. 1. 1.]\n",
      "  [1. 1. 1. 1. 1.]\n",
      "  [1. 1. 1. 1. 1.]]]\n"
     ]
    },
    {
     "data": {
      "text/plain": [
       "(2, 3, 5)"
      ]
     },
     "execution_count": 11,
     "metadata": {},
     "output_type": "execute_result"
    }
   ],
   "source": [
    "# your code here\n",
    "\n",
    "c = b.transpose((1,2,0))\n",
    "\n",
    "print(c)\n",
    "\n",
    "c.shape"
   ]
  },
  {
   "cell_type": "markdown",
   "metadata": {},
   "source": [
    "#### 10. Try to add *a* and *c*. Now it should work. Assign the sum to variable *d*. But why does it work now?"
   ]
  },
  {
   "cell_type": "code",
   "execution_count": 12,
   "metadata": {},
   "outputs": [
    {
     "data": {
      "text/plain": [
       "array([[[1.89064886, 1.27328381, 1.68993204, 1.68070393, 1.33699471],\n",
       "        [1.70106641, 1.63385885, 1.29469194, 1.43889621, 1.50998563],\n",
       "        [1.76968468, 1.09945205, 1.12765437, 1.4275595 , 1.60992031]],\n",
       "\n",
       "       [[1.23586358, 1.96619137, 1.56272257, 1.58074035, 1.21699042],\n",
       "        [1.34835697, 1.7323585 , 1.86363889, 1.80037467, 1.72939698],\n",
       "        [1.34867391, 1.40821691, 1.92690311, 1.31556682, 1.26339812]]])"
      ]
     },
     "execution_count": 12,
     "metadata": {},
     "output_type": "execute_result"
    }
   ],
   "source": [
    "# your code/answer here\n",
    "\n",
    "d = np.add(a,c)\n",
    "\n",
    "# same dimesions\n",
    "\n",
    "d"
   ]
  },
  {
   "cell_type": "markdown",
   "metadata": {},
   "source": [
    "#### 11. Print *a* and *d*. Notice the difference and relation of the two array in terms of the values? Explain."
   ]
  },
  {
   "cell_type": "code",
   "execution_count": 13,
   "metadata": {},
   "outputs": [
    {
     "name": "stdout",
     "output_type": "stream",
     "text": [
      "[[[0.89064886 0.27328381 0.68993204 0.68070393 0.33699471]\n",
      "  [0.70106641 0.63385885 0.29469194 0.43889621 0.50998563]\n",
      "  [0.76968468 0.09945205 0.12765437 0.4275595  0.60992031]]\n",
      "\n",
      " [[0.23586358 0.96619137 0.56272257 0.58074035 0.21699042]\n",
      "  [0.34835697 0.7323585  0.86363889 0.80037467 0.72939698]\n",
      "  [0.34867391 0.40821691 0.92690311 0.31556682 0.26339812]]]\n",
      "[[[1.89064886 1.27328381 1.68993204 1.68070393 1.33699471]\n",
      "  [1.70106641 1.63385885 1.29469194 1.43889621 1.50998563]\n",
      "  [1.76968468 1.09945205 1.12765437 1.4275595  1.60992031]]\n",
      "\n",
      " [[1.23586358 1.96619137 1.56272257 1.58074035 1.21699042]\n",
      "  [1.34835697 1.7323585  1.86363889 1.80037467 1.72939698]\n",
      "  [1.34867391 1.40821691 1.92690311 1.31556682 1.26339812]]]\n"
     ]
    }
   ],
   "source": [
    "# your code/answer here\n",
    "\n",
    "\n",
    "print(a)\n",
    "\n",
    "print(d)"
   ]
  },
  {
   "cell_type": "markdown",
   "metadata": {},
   "source": [
    "#### 12. Multiply *a* and *c*. Assign the result to *e*."
   ]
  },
  {
   "cell_type": "code",
   "execution_count": 14,
   "metadata": {},
   "outputs": [
    {
     "data": {
      "text/plain": [
       "array([[[0.89064886, 0.27328381, 0.68993204, 0.68070393, 0.33699471],\n",
       "        [0.70106641, 0.63385885, 0.29469194, 0.43889621, 0.50998563],\n",
       "        [0.76968468, 0.09945205, 0.12765437, 0.4275595 , 0.60992031]],\n",
       "\n",
       "       [[0.23586358, 0.96619137, 0.56272257, 0.58074035, 0.21699042],\n",
       "        [0.34835697, 0.7323585 , 0.86363889, 0.80037467, 0.72939698],\n",
       "        [0.34867391, 0.40821691, 0.92690311, 0.31556682, 0.26339812]]])"
      ]
     },
     "execution_count": 14,
     "metadata": {},
     "output_type": "execute_result"
    }
   ],
   "source": [
    "# your code here\n",
    "\n",
    "e = np.multiply(a,c)\n",
    "\n",
    "e"
   ]
  },
  {
   "cell_type": "markdown",
   "metadata": {},
   "source": [
    "#### 13. Does *e* equal to *a*? Why or why not?\n"
   ]
  },
  {
   "cell_type": "code",
   "execution_count": 15,
   "metadata": {},
   "outputs": [
    {
     "name": "stdout",
     "output_type": "stream",
     "text": [
      "[[[0.89064886 0.27328381 0.68993204 0.68070393 0.33699471]\n",
      "  [0.70106641 0.63385885 0.29469194 0.43889621 0.50998563]\n",
      "  [0.76968468 0.09945205 0.12765437 0.4275595  0.60992031]]\n",
      "\n",
      " [[0.23586358 0.96619137 0.56272257 0.58074035 0.21699042]\n",
      "  [0.34835697 0.7323585  0.86363889 0.80037467 0.72939698]\n",
      "  [0.34867391 0.40821691 0.92690311 0.31556682 0.26339812]]]\n",
      "[[[0.89064886 0.27328381 0.68993204 0.68070393 0.33699471]\n",
      "  [0.70106641 0.63385885 0.29469194 0.43889621 0.50998563]\n",
      "  [0.76968468 0.09945205 0.12765437 0.4275595  0.60992031]]\n",
      "\n",
      " [[0.23586358 0.96619137 0.56272257 0.58074035 0.21699042]\n",
      "  [0.34835697 0.7323585  0.86363889 0.80037467 0.72939698]\n",
      "  [0.34867391 0.40821691 0.92690311 0.31556682 0.26339812]]]\n"
     ]
    }
   ],
   "source": [
    "# your code/answer here\n",
    "\n",
    "print(e)\n",
    "print(a)\n",
    "\n",
    "# they are same. because e is equal to a*c where c is one, so e would be equal to a. "
   ]
  },
  {
   "cell_type": "markdown",
   "metadata": {},
   "source": [
    "#### 14. Identify the max, min, and mean values in *d*. Assign those values to variables *d_max*, *d_min* and *d_mean*."
   ]
  },
  {
   "cell_type": "code",
   "execution_count": 16,
   "metadata": {},
   "outputs": [
    {
     "name": "stdout",
     "output_type": "stream",
     "text": [
      "1.9661913714145578\n",
      "1.0994520520263535\n",
      "1.5261242157132757\n"
     ]
    }
   ],
   "source": [
    "# your code here\n",
    "\n",
    "d_max = np.max(d)\n",
    "\n",
    "print(d_max)\n",
    "\n",
    "d_min = np.min(d)\n",
    "\n",
    "print(d_min)\n",
    "\n",
    "d_mean = np.mean(d)\n",
    "\n",
    "print(d_mean)"
   ]
  },
  {
   "cell_type": "markdown",
   "metadata": {},
   "source": [
    "#### 15. Now we want to label the values in *d*. First create an empty array *f* with the same shape (i.e. 2x3x5) as *d* using `np.empty`.\n"
   ]
  },
  {
   "cell_type": "code",
   "execution_count": 17,
   "metadata": {},
   "outputs": [
    {
     "name": "stdout",
     "output_type": "stream",
     "text": [
      "[[[0.89064886 0.27328381 0.68993204 0.68070393 0.33699471]\n",
      "  [0.70106641 0.63385885 0.29469194 0.43889621 0.50998563]\n",
      "  [0.76968468 0.09945205 0.12765437 0.4275595  0.60992031]]\n",
      "\n",
      " [[0.23586358 0.96619137 0.56272257 0.58074035 0.21699042]\n",
      "  [0.34835697 0.7323585  0.86363889 0.80037467 0.72939698]\n",
      "  [0.34867391 0.40821691 0.92690311 0.31556682 0.26339812]]]\n"
     ]
    }
   ],
   "source": [
    "# your code here\n",
    "\n",
    "f = np.empty((2,3,5))\n",
    "\n",
    "print(f)"
   ]
  },
  {
   "cell_type": "markdown",
   "metadata": {},
   "source": [
    "#### 16. Populate the values in *f*. \n",
    "\n",
    "For each value in *d*, if it's larger than *d_min* but smaller than *d_mean*, assign 25 to the corresponding value in *f*. If a value in *d* is larger than *d_mean* but smaller than *d_max*, assign 75 to the corresponding value in *f*. If a value equals to *d_mean*, assign 50 to the corresponding value in *f*. Assign 0 to the corresponding value(s) in *f* for *d_min* in *d*. Assign 100 to the corresponding value(s) in *f* for *d_max* in *d*. In the end, f should have only the following values: 0, 25, 50, 75, and 100.\n",
    "\n",
    "**Note**: you don't have to use Numpy in this question."
   ]
  },
  {
   "cell_type": "code",
   "execution_count": 18,
   "metadata": {},
   "outputs": [
    {
     "name": "stdout",
     "output_type": "stream",
     "text": [
      "[[[1.89064886 1.27328381 1.68993204 1.68070393 1.33699471]\n",
      "  [1.70106641 1.63385885 1.29469194 1.43889621 1.50998563]\n",
      "  [1.76968468 1.09945205 1.12765437 1.4275595  1.60992031]]\n",
      "\n",
      " [[1.23586358 1.96619137 1.56272257 1.58074035 1.21699042]\n",
      "  [1.34835697 1.7323585  1.86363889 1.80037467 1.72939698]\n",
      "  [1.34867391 1.40821691 1.92690311 1.31556682 1.26339812]]]\n",
      "[[[0.89064886 0.27328381 0.68993204 0.68070393 0.33699471]\n",
      "  [0.70106641 0.63385885 0.29469194 0.43889621 0.50998563]\n",
      "  [0.76968468 0.09945205 0.12765437 0.4275595  0.60992031]]\n",
      "\n",
      " [[0.23586358 0.96619137 0.56272257 0.58074035 0.21699042]\n",
      "  [0.34835697 0.7323585  0.86363889 0.80037467 0.72939698]\n",
      "  [0.34867391 0.40821691 0.92690311 0.31556682 0.26339812]]]\n"
     ]
    },
    {
     "data": {
      "text/plain": [
       "array([[[ 75.,  25.,  75.,  75.,  25.],\n",
       "        [ 75.,  75.,  25.,  25.,  25.],\n",
       "        [ 75.,   0.,  25.,  25.,  75.]],\n",
       "\n",
       "       [[ 25., 100.,  75.,  75.,  25.],\n",
       "        [ 25.,  75.,  75.,  75.,  75.],\n",
       "        [ 25.,  25.,  75.,  25.,  25.]]])"
      ]
     },
     "execution_count": 18,
     "metadata": {},
     "output_type": "execute_result"
    }
   ],
   "source": [
    "# your code here\n",
    "\n",
    "print(d)\n",
    "\n",
    "print(f)\n",
    "\n",
    "\n",
    "f[(d > d_min) & (d < d_mean)] = 25\n",
    "\n",
    "f[(d > d_mean) & (d < d_max)] = 75\n",
    "\n",
    "f[(d == d_mean)] = 50\n",
    "\n",
    "f[(d == d_min)] = 0\n",
    "\n",
    "f[(d == d_max)] = 100\n",
    "\n",
    "\n",
    "\n",
    "f\n",
    "\n"
   ]
  },
  {
   "cell_type": "markdown",
   "metadata": {},
   "source": [
    "#### 17. Print *d* and *f*. Do you have your expected *f*?\n",
    "For instance, if your *d* is:\n",
    "```python\n",
    "[[[1.85836099, 1.67064465, 1.62576044, 1.40243961, 1.88454931],\n",
    "[1.75354326, 1.69403643, 1.36729252, 1.61415071, 1.12104981],\n",
    "[1.72201435, 1.1862918 , 1.87078449, 1.7726778 , 1.88180042]],\n",
    "[[1.44747908, 1.31673383, 1.02000951, 1.52218947, 1.97066381],\n",
    "[1.79129243, 1.74983003, 1.96028037, 1.85166831, 1.65450881],\n",
    "[1.18068344, 1.9587381 , 1.00656599, 1.93402165, 1.73514584]]]\n",
    "```\n",
    "Your *f* should be:\n",
    "```python\n",
    "[[[ 75.,  75.,  75.,  25.,  75.],\n",
    "[ 75.,  75.,  25.,  25.,  25.],\n",
    "[ 75.,  25.,  75.,  75.,  75.]],\n",
    "[[ 25.,  25.,  25.,  25., 100.],\n",
    "[ 75.,  75.,  75.,  75.,  75.],\n",
    "[ 25.,  75.,   0.,  75.,  75.]]]\n",
    "```"
   ]
  },
  {
   "cell_type": "code",
   "execution_count": 21,
   "metadata": {},
   "outputs": [
    {
     "name": "stdout",
     "output_type": "stream",
     "text": [
      "[[[1.89064886 1.27328381 1.68993204 1.68070393 1.33699471]\n",
      "  [1.70106641 1.63385885 1.29469194 1.43889621 1.50998563]\n",
      "  [1.76968468 1.09945205 1.12765437 1.4275595  1.60992031]]\n",
      "\n",
      " [[1.23586358 1.96619137 1.56272257 1.58074035 1.21699042]\n",
      "  [1.34835697 1.7323585  1.86363889 1.80037467 1.72939698]\n",
      "  [1.34867391 1.40821691 1.92690311 1.31556682 1.26339812]]]\n",
      "[[[ 75.  25.  75.  75.  25.]\n",
      "  [ 75.  75.  25.  25.  25.]\n",
      "  [ 75.   0.  25.  25.  75.]]\n",
      "\n",
      " [[ 25. 100.  75.  75.  25.]\n",
      "  [ 25.  75.  75.  75.  75.]\n",
      "  [ 25.  25.  75.  25.  25.]]]\n"
     ]
    }
   ],
   "source": [
    "# your code here\n",
    "\n",
    "print(d)\n",
    "\n",
    "print(f)\n",
    "\n",
    "# yes"
   ]
  },
  {
   "cell_type": "markdown",
   "metadata": {},
   "source": [
    "#### 18. Bonus question: instead of using numbers (i.e. 0, 25, 50, 75, and 100), use string values  (\"A\", \"B\", \"C\", \"D\", and \"E\") to label the array elements. For the example above, the expected result is:\n",
    "\n",
    "```python\n",
    "[[[ 'D',  'D',  'D',  'B',  'D'],\n",
    "[ 'D',  'D',  'B',  'B',  'B'],\n",
    "[ 'D',  'B',  'D',  'D',  'D']],\n",
    "[[ 'B',  'B',  'B',  'B',  'E'],\n",
    "[ 'D',  'D',  'D',  'D',  'D'],\n",
    "[ 'B',  'D',   'A',  'D', 'D']]]\n",
    "```\n",
    "**Note**: you don't have to use Numpy in this question."
   ]
  },
  {
   "cell_type": "code",
   "execution_count": 22,
   "metadata": {},
   "outputs": [
    {
     "data": {
      "text/plain": [
       "array([[['D', 'B', 'D', 'D', 'B'],\n",
       "        ['D', 'D', 'B', 'B', 'B'],\n",
       "        ['D', 'A', 'B', 'B', 'D']],\n",
       "\n",
       "       [['B', 'E', 'D', 'D', 'B'],\n",
       "        ['B', 'D', 'D', 'D', 'D'],\n",
       "        ['B', 'B', 'D', 'B', 'B']]], dtype='<U1')"
      ]
     },
     "execution_count": 22,
     "metadata": {},
     "output_type": "execute_result"
    }
   ],
   "source": [
    "# your code here\n",
    "\n",
    "z = np.empty_like(d, dtype = str)\n",
    "\n",
    "z[(d > d_min) & (d < d_mean)] = 'B'\n",
    "\n",
    "z[(d > d_mean) & (d < d_max)] = 'D'\n",
    "\n",
    "z[(d == d_mean)] = 'C'\n",
    "\n",
    "z[(d == d_min)] = 'A'\n",
    "\n",
    "z[(d == d_max)] = 'E'\n",
    "\n",
    "z\n"
   ]
  }
 ],
 "metadata": {
  "kernelspec": {
   "display_name": "Python 3",
   "language": "python",
   "name": "python3"
  },
  "language_info": {
   "codemirror_mode": {
    "name": "ipython",
    "version": 3
   },
   "file_extension": ".py",
   "mimetype": "text/x-python",
   "name": "python",
   "nbconvert_exporter": "python",
   "pygments_lexer": "ipython3",
   "version": "3.8.3"
  }
 },
 "nbformat": 4,
 "nbformat_minor": 2
}
